{
 "cells": [
  {
   "cell_type": "code",
   "execution_count": 3,
   "metadata": {},
   "outputs": [],
   "source": [
    "import json\n",
    "import websocket\n",
    "import threading\n",
    "import sqlite3\n",
    "import requests\n",
    "\n",
    "def get_top_50_pairs():\n",
    "    response = requests.get('https://api.binance.com/api/v3/ticker/24hr')\n",
    "    tickers = response.json()\n",
    "    \n",
    "    # Sort by 24-hour quote volume\n",
    "    sorted_tickers = sorted(tickers, key=lambda x: float(x.get('quoteVolume', 0)), reverse=True)\n",
    "    \n",
    "    return [ticker['symbol'] for ticker in sorted_tickers[:50]]\n",
    "\n",
    "def on_message(ws, message):\n",
    "    data = json.loads(message)\n",
    "    kline = data['k']\n",
    "\n",
    "    # Extract OHLCV data\n",
    "    open_price = kline['o']\n",
    "    high_price = kline['h']\n",
    "    low_price = kline['l']\n",
    "    close_price = kline['c']\n",
    "    volume = kline['v']\n",
    "    timestamp = kline['t']  # You might want to convert this to a human-readable date\n",
    "    symbol = data['s']\n",
    "\n",
    "    # Connect to the SQLite database\n",
    "    conn = sqlite3.connect('crypto_data.db')\n",
    "    c = conn.cursor()\n",
    "\n",
    "    print(\"Inserting \", open_price, \"for \", symbol, \" at \", timestamp)\n",
    "    print(\"---------------------------------------------------------\")\n",
    "    # Insert the data into the ohlcv table\n",
    "    c.execute(\"INSERT INTO ohlcv (date, symbol, open, high, low, close, volume) VALUES (?, ?, ?, ?, ?, ?, ?)\",\n",
    "              (timestamp, symbol, open_price, high_price, low_price, close_price, volume))\n",
    "\n",
    "    conn.commit()\n",
    "    conn.close()"
   ]
  },
  {
   "cell_type": "code",
   "execution_count": 4,
   "metadata": {},
   "outputs": [],
   "source": [
    "def connect_to_websocket(symbol):\n",
    "    ws = websocket.WebSocketApp(f\"wss://stream.binance.com:9443/ws/{symbol}@kline_1m\",\n",
    "                                on_message=on_message)\n",
    "    ws.run_forever()\n",
    "\n",
    "def threaded_websocket_connection(symbol):\n",
    "    thread = threading.Thread(target=connect_to_websocket, args=(symbol,))\n",
    "    thread.start()"
   ]
  },
  {
   "cell_type": "code",
   "execution_count": 5,
   "metadata": {},
   "outputs": [
    {
     "name": "stdout",
     "output_type": "stream",
     "text": [
      "{'symbol': 'ETHBTC', 'status': 'TRADING', 'baseAsset': 'ETH', 'baseAssetPrecision': 8, 'quoteAsset': 'BTC', 'quotePrecision': 8, 'quoteAssetPrecision': 8, 'baseCommissionPrecision': 8, 'quoteCommissionPrecision': 8, 'orderTypes': ['LIMIT', 'LIMIT_MAKER', 'MARKET', 'STOP_LOSS_LIMIT', 'TAKE_PROFIT_LIMIT'], 'icebergAllowed': True, 'ocoAllowed': True, 'quoteOrderQtyMarketAllowed': True, 'allowTrailingStop': True, 'cancelReplaceAllowed': True, 'isSpotTradingAllowed': True, 'isMarginTradingAllowed': True, 'filters': [{'filterType': 'PRICE_FILTER', 'minPrice': '0.00001000', 'maxPrice': '922327.00000000', 'tickSize': '0.00001000'}, {'filterType': 'LOT_SIZE', 'minQty': '0.00010000', 'maxQty': '100000.00000000', 'stepSize': '0.00010000'}, {'filterType': 'ICEBERG_PARTS', 'limit': 10}, {'filterType': 'MARKET_LOT_SIZE', 'minQty': '0.00000000', 'maxQty': '5669.98621083', 'stepSize': '0.00000000'}, {'filterType': 'TRAILING_DELTA', 'minTrailingAboveDelta': 10, 'maxTrailingAboveDelta': 2000, 'minTrailingBelowDelta': 10, 'maxTrailingBelowDelta': 2000}, {'filterType': 'PERCENT_PRICE_BY_SIDE', 'bidMultiplierUp': '5', 'bidMultiplierDown': '0.2', 'askMultiplierUp': '5', 'askMultiplierDown': '0.2', 'avgPriceMins': 5}, {'filterType': 'NOTIONAL', 'minNotional': '0.00010000', 'applyMinToMarket': True, 'maxNotional': '9000000.00000000', 'applyMaxToMarket': False, 'avgPriceMins': 5}, {'filterType': 'MAX_NUM_ORDERS', 'maxNumOrders': 200}, {'filterType': 'MAX_NUM_ALGO_ORDERS', 'maxNumAlgoOrders': 5}], 'permissions': ['SPOT', 'MARGIN', 'TRD_GRP_004', 'TRD_GRP_005', 'TRD_GRP_006', 'TRD_GRP_008', 'TRD_GRP_009', 'TRD_GRP_010', 'TRD_GRP_011', 'TRD_GRP_012', 'TRD_GRP_013', 'TRD_GRP_014'], 'defaultSelfTradePreventionMode': 'NONE', 'allowedSelfTradePreventionModes': ['NONE', 'EXPIRE_TAKER', 'EXPIRE_MAKER', 'EXPIRE_BOTH']}\n"
     ]
    },
    {
     "ename": "KeyError",
     "evalue": "'quoteVolume'",
     "output_type": "error",
     "traceback": [
      "\u001b[1;31m---------------------------------------------------------------------------\u001b[0m",
      "\u001b[1;31mKeyError\u001b[0m                                  Traceback (most recent call last)",
      "\u001b[1;32md:\\WebSocket Binance\\jupyter_debug.ipynb Cell 3\u001b[0m in \u001b[0;36m<cell line: 1>\u001b[1;34m()\u001b[0m\n\u001b[1;32m----> <a href='vscode-notebook-cell:/d%3A/WebSocket%20Binance/jupyter_debug.ipynb#W2sZmlsZQ%3D%3D?line=0'>1</a>\u001b[0m top_50_pairs \u001b[39m=\u001b[39m get_top_50_pairs()\n\u001b[0;32m      <a href='vscode-notebook-cell:/d%3A/WebSocket%20Binance/jupyter_debug.ipynb#W2sZmlsZQ%3D%3D?line=1'>2</a>\u001b[0m \u001b[39mprint\u001b[39m(top_50_pairs)\n\u001b[0;32m      <a href='vscode-notebook-cell:/d%3A/WebSocket%20Binance/jupyter_debug.ipynb#W2sZmlsZQ%3D%3D?line=2'>3</a>\u001b[0m \u001b[39mfor\u001b[39;00m pair \u001b[39min\u001b[39;00m top_50_pairs:\n",
      "\u001b[1;32md:\\WebSocket Binance\\jupyter_debug.ipynb Cell 3\u001b[0m in \u001b[0;36mget_top_50_pairs\u001b[1;34m()\u001b[0m\n\u001b[0;32m     <a href='vscode-notebook-cell:/d%3A/WebSocket%20Binance/jupyter_debug.ipynb#W2sZmlsZQ%3D%3D?line=12'>13</a>\u001b[0m \u001b[39mprint\u001b[39m(valid_pairs[\u001b[39m0\u001b[39m])\n\u001b[0;32m     <a href='vscode-notebook-cell:/d%3A/WebSocket%20Binance/jupyter_debug.ipynb#W2sZmlsZQ%3D%3D?line=13'>14</a>\u001b[0m \u001b[39m# Sort by volume (for simplicity, we'll just use the quote asset volume of the previous 24 hours)\u001b[39;00m\n\u001b[1;32m---> <a href='vscode-notebook-cell:/d%3A/WebSocket%20Binance/jupyter_debug.ipynb#W2sZmlsZQ%3D%3D?line=14'>15</a>\u001b[0m sorted_pairs \u001b[39m=\u001b[39m \u001b[39msorted\u001b[39;49m(valid_pairs, key\u001b[39m=\u001b[39;49m\u001b[39mlambda\u001b[39;49;00m x: \u001b[39mfloat\u001b[39;49m(x[\u001b[39m'\u001b[39;49m\u001b[39mquoteVolume\u001b[39;49m\u001b[39m'\u001b[39;49m]), reverse\u001b[39m=\u001b[39;49m\u001b[39mTrue\u001b[39;49;00m)\n\u001b[0;32m     <a href='vscode-notebook-cell:/d%3A/WebSocket%20Binance/jupyter_debug.ipynb#W2sZmlsZQ%3D%3D?line=16'>17</a>\u001b[0m \u001b[39mreturn\u001b[39;00m [pair[\u001b[39m'\u001b[39m\u001b[39msymbol\u001b[39m\u001b[39m'\u001b[39m] \u001b[39mfor\u001b[39;00m pair \u001b[39min\u001b[39;00m sorted_pairs[:\u001b[39m50\u001b[39m]]\n",
      "\u001b[1;32md:\\WebSocket Binance\\jupyter_debug.ipynb Cell 3\u001b[0m in \u001b[0;36mget_top_50_pairs.<locals>.<lambda>\u001b[1;34m(x)\u001b[0m\n\u001b[0;32m     <a href='vscode-notebook-cell:/d%3A/WebSocket%20Binance/jupyter_debug.ipynb#W2sZmlsZQ%3D%3D?line=12'>13</a>\u001b[0m \u001b[39mprint\u001b[39m(valid_pairs[\u001b[39m0\u001b[39m])\n\u001b[0;32m     <a href='vscode-notebook-cell:/d%3A/WebSocket%20Binance/jupyter_debug.ipynb#W2sZmlsZQ%3D%3D?line=13'>14</a>\u001b[0m \u001b[39m# Sort by volume (for simplicity, we'll just use the quote asset volume of the previous 24 hours)\u001b[39;00m\n\u001b[1;32m---> <a href='vscode-notebook-cell:/d%3A/WebSocket%20Binance/jupyter_debug.ipynb#W2sZmlsZQ%3D%3D?line=14'>15</a>\u001b[0m sorted_pairs \u001b[39m=\u001b[39m \u001b[39msorted\u001b[39m(valid_pairs, key\u001b[39m=\u001b[39m\u001b[39mlambda\u001b[39;00m x: \u001b[39mfloat\u001b[39m(x[\u001b[39m'\u001b[39;49m\u001b[39mquoteVolume\u001b[39;49m\u001b[39m'\u001b[39;49m]), reverse\u001b[39m=\u001b[39m\u001b[39mTrue\u001b[39;00m)\n\u001b[0;32m     <a href='vscode-notebook-cell:/d%3A/WebSocket%20Binance/jupyter_debug.ipynb#W2sZmlsZQ%3D%3D?line=16'>17</a>\u001b[0m \u001b[39mreturn\u001b[39;00m [pair[\u001b[39m'\u001b[39m\u001b[39msymbol\u001b[39m\u001b[39m'\u001b[39m] \u001b[39mfor\u001b[39;00m pair \u001b[39min\u001b[39;00m sorted_pairs[:\u001b[39m50\u001b[39m]]\n",
      "\u001b[1;31mKeyError\u001b[0m: 'quoteVolume'"
     ]
    }
   ],
   "source": [
    "top_50_pairs = get_top_50_pairs()\n",
    "print(top_50_pairs)\n",
    "for pair in top_50_pairs:\n",
    "    threaded_websocket_connection(pair)"
   ]
  },
  {
   "cell_type": "code",
   "execution_count": null,
   "metadata": {},
   "outputs": [],
   "source": []
  }
 ],
 "metadata": {
  "kernelspec": {
   "display_name": "sistema",
   "language": "python",
   "name": "python3"
  },
  "language_info": {
   "codemirror_mode": {
    "name": "ipython",
    "version": 3
   },
   "file_extension": ".py",
   "mimetype": "text/x-python",
   "name": "python",
   "nbconvert_exporter": "python",
   "pygments_lexer": "ipython3",
   "version": "3.9.12"
  },
  "orig_nbformat": 4
 },
 "nbformat": 4,
 "nbformat_minor": 2
}
